{
  "nbformat": 4,
  "nbformat_minor": 0,
  "metadata": {
    "colab": {
      "name": "04/09/2020functions",
      "provenance": [],
      "authorship_tag": "ABX9TyNWSaM5Y/3khUMu1oIeqfTa",
      "include_colab_link": true
    },
    "kernelspec": {
      "name": "python3",
      "display_name": "Python 3"
    }
  },
  "cells": [
    {
      "cell_type": "markdown",
      "metadata": {
        "id": "view-in-github",
        "colab_type": "text"
      },
      "source": [
        "<a href=\"https://colab.research.google.com/github/SANDEEPGOUD7405/FlimsyMajesticResearch/blob/master/04_09_2020functions.ipynb\" target=\"_parent\"><img src=\"https://colab.research.google.com/assets/colab-badge.svg\" alt=\"Open In Colab\"/></a>"
      ]
    },
    {
      "cell_type": "markdown",
      "metadata": {
        "id": "20Ywd3wbLswX",
        "colab_type": "text"
      },
      "source": [
        "**functions**\n",
        "anonymous function (lamda)\n",
        "map()\n",
        "filter()\n",
        "reduce"
      ]
    },
    {
      "cell_type": "code",
      "metadata": {
        "id": "NOfkp8IpMCrC",
        "colab_type": "code",
        "colab": {
          "base_uri": "https://localhost:8080/",
          "height": 34
        },
        "outputId": "715981f0-b350-45b7-c5e1-d22512fa9699"
      },
      "source": [
        "x=20\n",
        "y=10\n",
        "print(\"add\",x+y)"
      ],
      "execution_count": null,
      "outputs": [
        {
          "output_type": "stream",
          "text": [
            "add 30\n"
          ],
          "name": "stdout"
        }
      ]
    },
    {
      "cell_type": "code",
      "metadata": {
        "id": "xEzLdQOAM9tm",
        "colab_type": "code",
        "colab": {
          "base_uri": "https://localhost:8080/",
          "height": 228
        },
        "outputId": "e2f0a4d8-86d2-42dc-ee7c-43a46562cc4f"
      },
      "source": [
        "def arthimetic(x,y):\n",
        "  print(\"addition=\",x+y)\n",
        "  print(\"sub=\",x-y)\n",
        "  print(\"mult=\",x*y)\n",
        "arthimetic(20,10)\n",
        "print(\"-------\")\n",
        "arthimetic(200,10)\n",
        "print(\"------\")\n",
        "arthimetic(100,20)\n",
        "print(\"------\")"
      ],
      "execution_count": null,
      "outputs": [
        {
          "output_type": "stream",
          "text": [
            "addition= 30\n",
            "sub= 10\n",
            "mult= 200\n",
            "-------\n",
            "addition= 210\n",
            "sub= 190\n",
            "mult= 2000\n",
            "------\n",
            "addition= 120\n",
            "sub= 80\n",
            "mult= 2000\n",
            "------\n"
          ],
          "name": "stdout"
        }
      ]
    },
    {
      "cell_type": "code",
      "metadata": {
        "id": "EsEjIn-eN0QD",
        "colab_type": "code",
        "colab": {
          "base_uri": "https://localhost:8080/",
          "height": 52
        },
        "outputId": "c2aa590e-ac8e-447c-9a3c-e04e174ab58c"
      },
      "source": [
        "x=10\n",
        "def f1():\n",
        "  global x\n",
        "  x=20\n",
        "  print(x)\n",
        "def f2():\n",
        "  print(x)\n",
        "f1()\n",
        "f2()"
      ],
      "execution_count": null,
      "outputs": [
        {
          "output_type": "stream",
          "text": [
            "20\n",
            "20\n"
          ],
          "name": "stdout"
        }
      ]
    },
    {
      "cell_type": "code",
      "metadata": {
        "id": "gkVuRse6OPHa",
        "colab_type": "code",
        "colab": {
          "base_uri": "https://localhost:8080/",
          "height": 52
        },
        "outputId": "246f2f5d-a0ca-4ac8-b4c4-25c08f3b5c60"
      },
      "source": [
        "def f1():\n",
        "  global x\n",
        "  x=20\n",
        "  print(x)\n",
        "def f2():\n",
        "  print(x)\n",
        "f1()\n",
        "f2()"
      ],
      "execution_count": null,
      "outputs": [
        {
          "output_type": "stream",
          "text": [
            "20\n",
            "20\n"
          ],
          "name": "stdout"
        }
      ]
    },
    {
      "cell_type": "markdown",
      "metadata": {
        "id": "kJgI9LvcPP5l",
        "colab_type": "text"
      },
      "source": [
        "**anonymous function ** function without no identity"
      ]
    },
    {
      "cell_type": "code",
      "metadata": {
        "id": "Yf9ZRrmfPkK5",
        "colab_type": "code",
        "colab": {}
      },
      "source": [
        "# name less function \n",
        "# use of lamda instant use (one time function )"
      ],
      "execution_count": null,
      "outputs": []
    },
    {
      "cell_type": "code",
      "metadata": {
        "id": "IgUz57cQPxdq",
        "colab_type": "code",
        "colab": {
          "base_uri": "https://localhost:8080/",
          "height": 34
        },
        "outputId": "0b573fa0-a4c6-4575-aa5b-402075843a41"
      },
      "source": [
        "def squrit(n):\n",
        "  return n*n\n",
        "squrit(25)"
      ],
      "execution_count": null,
      "outputs": [
        {
          "output_type": "execute_result",
          "data": {
            "text/plain": [
              "625"
            ]
          },
          "metadata": {
            "tags": []
          },
          "execution_count": 13
        }
      ]
    },
    {
      "cell_type": "markdown",
      "metadata": {
        "id": "6LjUEW4zQDC-",
        "colab_type": "text"
      },
      "source": [
        "syntax\n",
        "lamda input agreement (expressions)\n"
      ]
    },
    {
      "cell_type": "code",
      "metadata": {
        "id": "qCKgx955QOuc",
        "colab_type": "code",
        "colab": {
          "base_uri": "https://localhost:8080/",
          "height": 34
        },
        "outputId": "64665978-0d76-47cc-e1c2-c0d61ac0d496"
      },
      "source": [
        "ob =lambda n:n*n\n",
        "print(ob(5))"
      ],
      "execution_count": null,
      "outputs": [
        {
          "output_type": "stream",
          "text": [
            "25\n"
          ],
          "name": "stdout"
        }
      ]
    },
    {
      "cell_type": "code",
      "metadata": {
        "id": "dwAFbk7cQmA8",
        "colab_type": "code",
        "colab": {
          "base_uri": "https://localhost:8080/",
          "height": 34
        },
        "outputId": "12af0866-28da-44c6-fb7f-606473de3471"
      },
      "source": [
        "ob=lambda x,y:x*y\n",
        "print(ob(7,8))"
      ],
      "execution_count": null,
      "outputs": [
        {
          "output_type": "stream",
          "text": [
            "56\n"
          ],
          "name": "stdout"
        }
      ]
    },
    {
      "cell_type": "code",
      "metadata": {
        "id": "CRbYo3GcQ1Ww",
        "colab_type": "code",
        "colab": {
          "base_uri": "https://localhost:8080/",
          "height": 175
        },
        "outputId": "45fd15ec-78b7-4ca4-bcb7-d6a412e71381"
      },
      "source": [
        "s=lambda n:n*n\n",
        "for i in range(1,10):\n",
        "    print(\"the square of {} is {}\".format(i,s(i)))"
      ],
      "execution_count": null,
      "outputs": [
        {
          "output_type": "stream",
          "text": [
            "the square of 1 is 1\n",
            "the square of 2 is 4\n",
            "the square of 3 is 9\n",
            "the square of 4 is 16\n",
            "the square of 5 is 25\n",
            "the square of 6 is 36\n",
            "the square of 7 is 49\n",
            "the square of 8 is 64\n",
            "the square of 9 is 81\n"
          ],
          "name": "stdout"
        }
      ]
    },
    {
      "cell_type": "code",
      "metadata": {
        "id": "tu9FNqzUR73X",
        "colab_type": "code",
        "colab": {
          "base_uri": "https://localhost:8080/",
          "height": 34
        },
        "outputId": "394ef649-3aec-4cf9-9237-4926f214c6eb"
      },
      "source": [
        "s=lambda x,y:x*y if x>y else y\n",
        "print(s(10,20))"
      ],
      "execution_count": null,
      "outputs": [
        {
          "output_type": "stream",
          "text": [
            "20\n"
          ],
          "name": "stdout"
        }
      ]
    },
    {
      "cell_type": "markdown",
      "metadata": {
        "id": "XAIosCEtSThA",
        "colab_type": "text"
      },
      "source": [
        "**map function **"
      ]
    },
    {
      "cell_type": "code",
      "metadata": {
        "id": "uX3KFvDtSb1L",
        "colab_type": "code",
        "colab": {
          "base_uri": "https://localhost:8080/",
          "height": 34
        },
        "outputId": "e3a9fb45-59e0-4292-ad60-f8f6f604ce28"
      },
      "source": [
        "lst=[1,2,3,4,5]\n",
        "def squre(n):\n",
        "  return n*n\n",
        "lst=list(map(squre,lst))\n",
        "print(lst)"
      ],
      "execution_count": null,
      "outputs": [
        {
          "output_type": "stream",
          "text": [
            "[1, 4, 9, 16, 25]\n"
          ],
          "name": "stdout"
        }
      ]
    },
    {
      "cell_type": "code",
      "metadata": {
        "id": "aEHoJCz4UhzP",
        "colab_type": "code",
        "colab": {
          "base_uri": "https://localhost:8080/",
          "height": 34
        },
        "outputId": "a6b967c6-f527-4a8c-dc9c-27e8d4e9423a"
      },
      "source": [
        "lst=[1,2,3,4,5,6,7]\n",
        "lst2=[1,2,3,4,5,6]\n",
        "lst3=list(map(lambda n,m:n*m ,lst,lst2))\n",
        "print(lst3)"
      ],
      "execution_count": null,
      "outputs": [
        {
          "output_type": "stream",
          "text": [
            "[1, 4, 9, 16, 25, 36]\n"
          ],
          "name": "stdout"
        }
      ]
    },
    {
      "cell_type": "code",
      "metadata": {
        "id": "FNHfE50oVYbs",
        "colab_type": "code",
        "colab": {
          "base_uri": "https://localhost:8080/",
          "height": 34
        },
        "outputId": "69c05714-2b91-4a9d-eb55-7d0dc99fb9b5"
      },
      "source": [
        "lst1=['gitam','cse','it']\n",
        "def m1(x):\n",
        "  return x +'gitam'\n",
        "print(list(map(m1,lst1)))"
      ],
      "execution_count": null,
      "outputs": [
        {
          "output_type": "stream",
          "text": [
            "['gitamgitam', 'csegitam', 'itgitam']\n"
          ],
          "name": "stdout"
        }
      ]
    },
    {
      "cell_type": "code",
      "metadata": {
        "id": "BonMOsClWFFn",
        "colab_type": "code",
        "colab": {
          "base_uri": "https://localhost:8080/",
          "height": 34
        },
        "outputId": "26279ba9-62f0-4497-d3a9-ad590e253738"
      },
      "source": [
        "lst1=['gitam','cse','it']\n",
        "def m1(x):\n",
        "  return x +'gitam'\n",
        "print(tuple(map(m1,lst1)))"
      ],
      "execution_count": null,
      "outputs": [
        {
          "output_type": "stream",
          "text": [
            "('gitamgitam', 'csegitam', 'itgitam')\n"
          ],
          "name": "stdout"
        }
      ]
    }
  ]
}