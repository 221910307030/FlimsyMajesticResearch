{
  "nbformat": 4,
  "nbformat_minor": 0,
  "metadata": {
    "colab": {
      "name": "03/09/2020python",
      "provenance": [],
      "collapsed_sections": [],
      "authorship_tag": "ABX9TyOsYYI8KOqTRu1S9U307HVn",
      "include_colab_link": true
    },
    "kernelspec": {
      "name": "python3",
      "display_name": "Python 3"
    }
  },
  "cells": [
    {
      "cell_type": "markdown",
      "metadata": {
        "id": "view-in-github",
        "colab_type": "text"
      },
      "source": [
        "<a href=\"https://colab.research.google.com/github/SANDEEPGOUD7405/FlimsyMajesticResearch/blob/master/03_09_2020python.ipynb\" target=\"_parent\"><img src=\"https://colab.research.google.com/assets/colab-badge.svg\" alt=\"Open In Colab\"/></a>"
      ]
    },
    {
      "cell_type": "code",
      "metadata": {
        "id": "qx5EdIiPRTwJ",
        "colab_type": "code",
        "colab": {
          "base_uri": "https://localhost:8080/",
          "height": 34
        },
        "outputId": "f94cf2ff-deb1-4473-b635-109552d86092"
      },
      "source": [
        "print(\"hello\")"
      ],
      "execution_count": null,
      "outputs": [
        {
          "output_type": "stream",
          "text": [
            "hello\n"
          ],
          "name": "stdout"
        }
      ]
    },
    {
      "cell_type": "code",
      "metadata": {
        "id": "nQiEZs9ERfFy",
        "colab_type": "code",
        "colab": {
          "base_uri": "https://localhost:8080/",
          "height": 52
        },
        "outputId": "3683f5c4-e0a9-43ee-cb9d-0f39f072178a"
      },
      "source": [
        "n=int(input(\"enter a number\"))\n",
        "if n>0:\n",
        "  print(\"positive\")"
      ],
      "execution_count": null,
      "outputs": [
        {
          "output_type": "stream",
          "text": [
            "enter a number12\n",
            "positive\n"
          ],
          "name": "stdout"
        }
      ]
    },
    {
      "cell_type": "code",
      "metadata": {
        "id": "WUFt1RztRwvj",
        "colab_type": "code",
        "colab": {
          "base_uri": "https://localhost:8080/",
          "height": 52
        },
        "outputId": "5f797aa9-bf8f-403a-d5cf-676743d6414d"
      },
      "source": [
        "n=int(input(\"enter a number\"))\n",
        "if n%2==0:\n",
        "  print(\"divide by 2\")\n",
        "else:\n",
        "  print(\"not\")"
      ],
      "execution_count": null,
      "outputs": [
        {
          "output_type": "stream",
          "text": [
            "enter a number12\n",
            "divide by 2\n"
          ],
          "name": "stdout"
        }
      ]
    },
    {
      "cell_type": "code",
      "metadata": {
        "id": "6b8ZrlObSJIp",
        "colab_type": "code",
        "colab": {
          "base_uri": "https://localhost:8080/",
          "height": 87
        },
        "outputId": "81f9af50-7391-4387-f090-178849644ad1"
      },
      "source": [
        "n1=int(input(\"enter a number\"))\n",
        "n2=int(input(\"enter a number\"))\n",
        "n3=int(input(\"enter a number\"))\n",
        "if n1>n2:\n",
        "  if n1>n3:\n",
        "    print(\"n1 is greater\")\n",
        "else:\n",
        "  print(\"n3 is grate13\")"
      ],
      "execution_count": null,
      "outputs": [
        {
          "output_type": "stream",
          "text": [
            "enter a number10\n",
            "enter a number25\n",
            "enter a number69\n",
            "n3 is grate\n"
          ],
          "name": "stdout"
        }
      ]
    },
    {
      "cell_type": "code",
      "metadata": {
        "id": "CaDOkZ3HS4Th",
        "colab_type": "code",
        "colab": {
          "base_uri": "https://localhost:8080/",
          "height": 175
        },
        "outputId": "9fa744aa-9fdd-4291-aa07-a7d7b71c181b"
      },
      "source": [
        "for i in range(1,10):\n",
        "  print(i)"
      ],
      "execution_count": null,
      "outputs": [
        {
          "output_type": "stream",
          "text": [
            "1\n",
            "2\n",
            "3\n",
            "4\n",
            "5\n",
            "6\n",
            "7\n",
            "8\n",
            "9\n"
          ],
          "name": "stdout"
        }
      ]
    },
    {
      "cell_type": "code",
      "metadata": {
        "id": "8watpxfo5Gkm",
        "colab_type": "code",
        "colab": {
          "base_uri": "https://localhost:8080/",
          "height": 615
        },
        "outputId": "8f45e9ad-7f02-498b-b3b6-b1caf3172157"
      },
      "source": [
        "for i in range(100,0,-3):\n",
        "  print(i)"
      ],
      "execution_count": null,
      "outputs": [
        {
          "output_type": "stream",
          "text": [
            "100\n",
            "97\n",
            "94\n",
            "91\n",
            "88\n",
            "85\n",
            "82\n",
            "79\n",
            "76\n",
            "73\n",
            "70\n",
            "67\n",
            "64\n",
            "61\n",
            "58\n",
            "55\n",
            "52\n",
            "49\n",
            "46\n",
            "43\n",
            "40\n",
            "37\n",
            "34\n",
            "31\n",
            "28\n",
            "25\n",
            "22\n",
            "19\n",
            "16\n",
            "13\n",
            "10\n",
            "7\n",
            "4\n",
            "1\n"
          ],
          "name": "stdout"
        }
      ]
    },
    {
      "cell_type": "code",
      "metadata": {
        "id": "tk9XnXzp5Rv1",
        "colab_type": "code",
        "colab": {
          "base_uri": "https://localhost:8080/",
          "height": 492
        },
        "outputId": "b6b4a7af-3f04-4f05-af2b-30cdf4ae2c03"
      },
      "source": [
        "num1=int(input(\"enter a number\"))\n",
        "i=0\n",
        "while(i<=num1):\n",
        "  i+=1\n",
        "  print(i)"
      ],
      "execution_count": null,
      "outputs": [
        {
          "output_type": "stream",
          "text": [
            "enter a number25\n",
            "1\n",
            "2\n",
            "3\n",
            "4\n",
            "5\n",
            "6\n",
            "7\n",
            "8\n",
            "9\n",
            "10\n",
            "11\n",
            "12\n",
            "13\n",
            "14\n",
            "15\n",
            "16\n",
            "17\n",
            "18\n",
            "19\n",
            "20\n",
            "21\n",
            "22\n",
            "23\n",
            "24\n",
            "25\n",
            "26\n"
          ],
          "name": "stdout"
        }
      ]
    },
    {
      "cell_type": "code",
      "metadata": {
        "id": "Yr-t9tF-5y9j",
        "colab_type": "code",
        "colab": {}
      },
      "source": [
        "for i in range(0,10):\n",
        "  if i==0:\n",
        "    break\n",
        "    print(i)"
      ],
      "execution_count": null,
      "outputs": []
    }
  ]
}