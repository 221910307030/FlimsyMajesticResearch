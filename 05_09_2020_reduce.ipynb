{
  "nbformat": 4,
  "nbformat_minor": 0,
  "metadata": {
    "colab": {
      "name": "05/09/2020 reduce",
      "provenance": [],
      "authorship_tag": "ABX9TyOwxSe75DYy+UzUEh2P4uXE",
      "include_colab_link": true
    },
    "kernelspec": {
      "name": "python3",
      "display_name": "Python 3"
    }
  },
  "cells": [
    {
      "cell_type": "markdown",
      "metadata": {
        "id": "view-in-github",
        "colab_type": "text"
      },
      "source": [
        "<a href=\"https://colab.research.google.com/github/SANDEEPGOUD7405/FlimsyMajesticResearch/blob/master/05_09_2020_reduce.ipynb\" target=\"_parent\"><img src=\"https://colab.research.google.com/assets/colab-badge.svg\" alt=\"Open In Colab\"/></a>"
      ]
    },
    {
      "cell_type": "code",
      "metadata": {
        "id": "MqBSpfTomuuh",
        "colab_type": "code",
        "colab": {
          "base_uri": "https://localhost:8080/",
          "height": 34
        },
        "outputId": "075fc00a-6261-4b5d-d907-dda2771be0f6"
      },
      "source": [
        "# length of words\n",
        "s='kasa sandeep goud'\n",
        "words = s.split()\n",
        "print(list(map(lambda w:len(w),words)))"
      ],
      "execution_count": 2,
      "outputs": [
        {
          "output_type": "stream",
          "text": [
            "[4, 7, 4]\n"
          ],
          "name": "stdout"
        }
      ]
    },
    {
      "cell_type": "code",
      "metadata": {
        "id": "NAsRZPzlnwLa",
        "colab_type": "code",
        "colab": {
          "base_uri": "https://localhost:8080/",
          "height": 34
        },
        "outputId": "e41abe8b-999c-412d-e7d9-e5b34f06399c"
      },
      "source": [
        "#additon of lists\n",
        "lst1=[1,2,3,4,5]\n",
        "lst2=[2,3,4,5,6]\n",
        "lst3=[4,5,6,8,9]\n",
        "print(list(map(lambda x,y,z:x*y*z,lst1,lst2,lst3)))"
      ],
      "execution_count": 4,
      "outputs": [
        {
          "output_type": "stream",
          "text": [
            "[8, 30, 72, 160, 270]\n"
          ],
          "name": "stdout"
        }
      ]
    },
    {
      "cell_type": "code",
      "metadata": {
        "id": "GA3MN3FWn8h9",
        "colab_type": "code",
        "colab": {
          "base_uri": "https://localhost:8080/",
          "height": 34
        },
        "outputId": "8a940d97-3f61-4388-9106-31a9328bf92c"
      },
      "source": [
        "#filter we can use filter () values from the sequences based on condition\n",
        "lst1=[1,2,34,5,6]\n",
        "print(list(filter(lambda x:x%2==0,lst1)))"
      ],
      "execution_count": 12,
      "outputs": [
        {
          "output_type": "stream",
          "text": [
            "[2, 34, 6]\n"
          ],
          "name": "stdout"
        }
      ]
    },
    {
      "cell_type": "code",
      "metadata": {
        "id": "ZegOxx6AqZvT",
        "colab_type": "code",
        "colab": {
          "base_uri": "https://localhost:8080/",
          "height": 34
        },
        "outputId": "57b688a5-69ba-48ca-e737-a635492c8d48"
      },
      "source": [
        "# print duplicate string in lst\n",
        "lst =['sandeep','goud']\n",
        "print(list(filter(lambda w:w=='goud',lst)))"
      ],
      "execution_count": 14,
      "outputs": [
        {
          "output_type": "stream",
          "text": [
            "['goud']\n"
          ],
          "name": "stdout"
        }
      ]
    },
    {
      "cell_type": "markdown",
      "metadata": {
        "id": "dC6THDK6q-GX",
        "colab_type": "text"
      },
      "source": [
        "reduce functools module"
      ]
    },
    {
      "cell_type": "code",
      "metadata": {
        "id": "TOR7ILtXrCUq",
        "colab_type": "code",
        "colab": {
          "base_uri": "https://localhost:8080/",
          "height": 34
        },
        "outputId": "8d11eb3b-3af0-427d-d582-1828279ce980"
      },
      "source": [
        "lst=[1,2,3,4,5,6]\n",
        "prod=1\n",
        "for i in lst:\n",
        "  prod=prod*i\n",
        "print(prod)"
      ],
      "execution_count": 15,
      "outputs": [
        {
          "output_type": "stream",
          "text": [
            "720\n"
          ],
          "name": "stdout"
        }
      ]
    },
    {
      "cell_type": "code",
      "metadata": {
        "id": "2IMMgCmnrVUC",
        "colab_type": "code",
        "colab": {
          "base_uri": "https://localhost:8080/",
          "height": 34
        },
        "outputId": "3e1dfba0-1a18-410f-ebb8-51e6006ced24"
      },
      "source": [
        "from functools import reduce\n",
        "print(reduce(lambda x,y:x*y,lst))"
      ],
      "execution_count": 18,
      "outputs": [
        {
          "output_type": "stream",
          "text": [
            "720\n"
          ],
          "name": "stdout"
        }
      ]
    },
    {
      "cell_type": "code",
      "metadata": {
        "id": "Sde_a8XzsCbi",
        "colab_type": "code",
        "colab": {
          "base_uri": "https://localhost:8080/",
          "height": 34
        },
        "outputId": "e917326c-5d66-4fbd-9a4b-cb1fb63c86f5"
      },
      "source": [
        "# addition of 1 to 100\n",
        "from functools import reduce \n",
        "sum=0\n",
        "for i in range (1,101):\n",
        "    sum=sum+i\n",
        "print(sum)"
      ],
      "execution_count": 20,
      "outputs": [
        {
          "output_type": "stream",
          "text": [
            "5050\n"
          ],
          "name": "stdout"
        }
      ]
    },
    {
      "cell_type": "code",
      "metadata": {
        "id": "mwW-38JDsdt2",
        "colab_type": "code",
        "colab": {
          "base_uri": "https://localhost:8080/",
          "height": 1000
        },
        "outputId": "b18ebe0d-451e-4c11-d0ed-b16b1b914776"
      },
      "source": [
        "from functools import reduce\n",
        "for i in range (1,101):\n",
        "    print(reduce(lambda x,y:x+y,range(1,101)))"
      ],
      "execution_count": 27,
      "outputs": [
        {
          "output_type": "stream",
          "text": [
            "5050\n",
            "5050\n",
            "5050\n",
            "5050\n",
            "5050\n",
            "5050\n",
            "5050\n",
            "5050\n",
            "5050\n",
            "5050\n",
            "5050\n",
            "5050\n",
            "5050\n",
            "5050\n",
            "5050\n",
            "5050\n",
            "5050\n",
            "5050\n",
            "5050\n",
            "5050\n",
            "5050\n",
            "5050\n",
            "5050\n",
            "5050\n",
            "5050\n",
            "5050\n",
            "5050\n",
            "5050\n",
            "5050\n",
            "5050\n",
            "5050\n",
            "5050\n",
            "5050\n",
            "5050\n",
            "5050\n",
            "5050\n",
            "5050\n",
            "5050\n",
            "5050\n",
            "5050\n",
            "5050\n",
            "5050\n",
            "5050\n",
            "5050\n",
            "5050\n",
            "5050\n",
            "5050\n",
            "5050\n",
            "5050\n",
            "5050\n",
            "5050\n",
            "5050\n",
            "5050\n",
            "5050\n",
            "5050\n",
            "5050\n",
            "5050\n",
            "5050\n",
            "5050\n",
            "5050\n",
            "5050\n",
            "5050\n",
            "5050\n",
            "5050\n",
            "5050\n",
            "5050\n",
            "5050\n",
            "5050\n",
            "5050\n",
            "5050\n",
            "5050\n",
            "5050\n",
            "5050\n",
            "5050\n",
            "5050\n",
            "5050\n",
            "5050\n",
            "5050\n",
            "5050\n",
            "5050\n",
            "5050\n",
            "5050\n",
            "5050\n",
            "5050\n",
            "5050\n",
            "5050\n",
            "5050\n",
            "5050\n",
            "5050\n",
            "5050\n",
            "5050\n",
            "5050\n",
            "5050\n",
            "5050\n",
            "5050\n",
            "5050\n",
            "5050\n",
            "5050\n",
            "5050\n",
            "5050\n"
          ],
          "name": "stdout"
        }
      ]
    },
    {
      "cell_type": "code",
      "metadata": {
        "id": "xGsoYHulta25",
        "colab_type": "code",
        "colab": {
          "base_uri": "https://localhost:8080/",
          "height": 34
        },
        "outputId": "51b0fe28-370d-426f-fa36-b9f18535ff67"
      },
      "source": [
        "# reverse a string\n",
        "s=\"sandeep\"\n",
        "rev=s[::-1]\n",
        "print(rev)"
      ],
      "execution_count": 31,
      "outputs": [
        {
          "output_type": "stream",
          "text": [
            "peednas\n"
          ],
          "name": "stdout"
        }
      ]
    },
    {
      "cell_type": "code",
      "metadata": {
        "id": "Syu0Fyt9uWHo",
        "colab_type": "code",
        "colab": {
          "base_uri": "https://localhost:8080/",
          "height": 34
        },
        "outputId": "be04c0ea-00aa-4696-b383-affb1e901d2b"
      },
      "source": [
        "print(\"reverse =\",s[::-1])"
      ],
      "execution_count": 32,
      "outputs": [
        {
          "output_type": "stream",
          "text": [
            "reverse = peednas\n"
          ],
          "name": "stdout"
        }
      ]
    },
    {
      "cell_type": "code",
      "metadata": {
        "id": "sSKlHXkruhF4",
        "colab_type": "code",
        "colab": {
          "base_uri": "https://localhost:8080/",
          "height": 34
        },
        "outputId": "591929e1-9734-49e8-f3ac-315ca3e63abe"
      },
      "source": [
        "rev=reversed(s)\n",
        "print(rev)"
      ],
      "execution_count": 33,
      "outputs": [
        {
          "output_type": "stream",
          "text": [
            "<reversed object at 0x7f2cc72fe358>\n"
          ],
          "name": "stdout"
        }
      ]
    },
    {
      "cell_type": "code",
      "metadata": {
        "id": "US2MeKL9vBuA",
        "colab_type": "code",
        "colab": {
          "base_uri": "https://localhost:8080/",
          "height": 50
        },
        "outputId": "dc29bb5b-7a8c-4aa9-c07e-a991393cd2af"
      },
      "source": [
        "s1=\"python using data structure\"\n",
        "i=s1.split()\n",
        "print(i)\n",
        "i1=i[::-1]\n",
        "print(rev)"
      ],
      "execution_count": 37,
      "outputs": [
        {
          "output_type": "stream",
          "text": [
            "['python', 'using', 'data', 'structure']\n",
            "erutcurts atad gnisu nohtyp\n"
          ],
          "name": "stdout"
        }
      ]
    }
  ]
}